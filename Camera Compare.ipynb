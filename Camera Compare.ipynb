{
 "cells": [
  {
   "cell_type": "markdown",
   "metadata": {},
   "source": [
    "# Camera Location Comparison\n",
    "## Evaluation of variance in estimated external camera paramters\n",
    "\n",
    "### first run for CAP data collect in Albuquerque, NM"
   ]
  },
  {
   "cell_type": "code",
   "execution_count": 2,
   "metadata": {
    "collapsed": true
   },
   "outputs": [],
   "source": [
    "import sys, os\n",
    "import pandas as pd\n",
    "import numpy as np\n",
    "import matplotlib.pyplot as plt\n"
   ]
  },
  {
   "cell_type": "code",
   "execution_count": 3,
   "metadata": {},
   "outputs": [
    {
     "name": "stdout",
     "output_type": "stream",
     "text": [
      "\u001b[31m1.txt\u001b[m\u001b[m*  \u001b[31m12.txt\u001b[m\u001b[m* \u001b[31m15.txt\u001b[m\u001b[m* \u001b[31m18.txt\u001b[m\u001b[m* \u001b[31m20.txt\u001b[m\u001b[m* \u001b[31m23.txt\u001b[m\u001b[m* \u001b[31m26.txt\u001b[m\u001b[m* \u001b[31m29.txt\u001b[m\u001b[m* \u001b[31m4.txt\u001b[m\u001b[m*  \u001b[31m7.txt\u001b[m\u001b[m*\r\n",
      "\u001b[31m10.txt\u001b[m\u001b[m* \u001b[31m13.txt\u001b[m\u001b[m* \u001b[31m16.txt\u001b[m\u001b[m* \u001b[31m19.txt\u001b[m\u001b[m* \u001b[31m21.txt\u001b[m\u001b[m* \u001b[31m24.txt\u001b[m\u001b[m* \u001b[31m27.txt\u001b[m\u001b[m* \u001b[31m3.txt\u001b[m\u001b[m*  \u001b[31m5.txt\u001b[m\u001b[m*  \u001b[31m8.txt\u001b[m\u001b[m*\r\n",
      "\u001b[31m11.txt\u001b[m\u001b[m* \u001b[31m14.txt\u001b[m\u001b[m* \u001b[31m17.txt\u001b[m\u001b[m* \u001b[31m2.txt\u001b[m\u001b[m*  \u001b[31m22.txt\u001b[m\u001b[m* \u001b[31m25.txt\u001b[m\u001b[m* \u001b[31m28.txt\u001b[m\u001b[m* \u001b[31m30.txt\u001b[m\u001b[m* \u001b[31m6.txt\u001b[m\u001b[m*  \u001b[31m9.txt\u001b[m\u001b[m*\r\n"
     ]
    }
   ],
   "source": [
    "ls CAP/Cameras"
   ]
  },
  {
   "cell_type": "code",
   "execution_count": 4,
   "metadata": {
    "collapsed": true
   },
   "outputs": [],
   "source": [
    "# list available Photoscan exported camera information\n",
    "os.listdir('CAP/cameras')\n",
    "cameraFiles = os.listdir('CAP/cameras')"
   ]
  },
  {
   "cell_type": "code",
   "execution_count": 5,
   "metadata": {},
   "outputs": [
    {
     "name": "stdout",
     "output_type": "stream",
     "text": [
      "29.txt\n",
      "15.txt\n",
      "14.txt\n",
      "28.txt\n",
      "16.txt\n",
      "17.txt\n",
      "13.txt\n",
      "12.txt\n",
      "10.txt\n",
      "11.txt\n",
      "9.txt\n",
      "8.txt\n",
      "5.txt\n",
      "4.txt\n",
      "6.txt\n",
      "7.txt\n",
      "3.txt\n",
      "2.txt\n",
      "1.txt\n",
      "20.txt\n",
      "21.txt\n",
      "23.txt\n",
      "22.txt\n",
      "26.txt\n",
      "27.txt\n",
      "25.txt\n",
      "19.txt\n",
      "18.txt\n",
      "24.txt\n",
      "30.txt\n"
     ]
    }
   ],
   "source": [
    "for i in cameraFiles:\n",
    "    print(i)"
   ]
  },
  {
   "cell_type": "code",
   "execution_count": 35,
   "metadata": {
    "collapsed": true
   },
   "outputs": [],
   "source": [
    "#with open('CAP/cameras/1.txt') as f: # The with keyword automatically closes the file when you are done\n",
    "#    print(f.read())"
   ]
  },
  {
   "cell_type": "code",
   "execution_count": 16,
   "metadata": {},
   "outputs": [
    {
     "name": "stderr",
     "output_type": "stream",
     "text": [
      "/anaconda3/lib/python3.6/site-packages/ipykernel_launcher.py:1: ParserWarning: Falling back to the 'python' engine because the 'c' engine does not support regex separators (separators > 1 char and different from '\\s+' are interpreted as regex); you can avoid this warning by specifying engine='python'.\n",
      "  \"\"\"Entry point for launching an IPython kernel.\n"
     ]
    },
    {
     "data": {
      "text/html": [
       "<div>\n",
       "<style>\n",
       "    .dataframe thead tr:only-child th {\n",
       "        text-align: right;\n",
       "    }\n",
       "\n",
       "    .dataframe thead th {\n",
       "        text-align: left;\n",
       "    }\n",
       "\n",
       "    .dataframe tbody tr th {\n",
       "        vertical-align: top;\n",
       "    }\n",
       "</style>\n",
       "<table border=\"1\" class=\"dataframe\">\n",
       "  <thead>\n",
       "    <tr style=\"text-align: right;\">\n",
       "      <th></th>\n",
       "      <th>0</th>\n",
       "    </tr>\n",
       "  </thead>\n",
       "  <tbody>\n",
       "    <tr>\n",
       "      <th>0</th>\n",
       "      <td># Cameras (13)</td>\n",
       "    </tr>\n",
       "    <tr>\n",
       "      <th>1</th>\n",
       "      <td># PhotoID, X, Y, Z, Omega, Phi, Kappa, r11, r1...</td>\n",
       "    </tr>\n",
       "    <tr>\n",
       "      <th>2</th>\n",
       "      <td>DSC_7120.jpg\\t33.7780720697611017\\t-346.716993...</td>\n",
       "    </tr>\n",
       "    <tr>\n",
       "      <th>3</th>\n",
       "      <td>DSC_7121.jpg\\t-20.0177704830947647\\t-299.53597...</td>\n",
       "    </tr>\n",
       "    <tr>\n",
       "      <th>4</th>\n",
       "      <td>DSC_7122.jpg\\t-77.7076393266742826\\t-247.50836...</td>\n",
       "    </tr>\n",
       "    <tr>\n",
       "      <th>5</th>\n",
       "      <td>DSC_7123.jpg\\t-131.1244633552223604\\t-200.1842...</td>\n",
       "    </tr>\n",
       "    <tr>\n",
       "      <th>6</th>\n",
       "      <td>DSC_7707.jpg\\t6.4441072671493531\\t-0.721151074...</td>\n",
       "    </tr>\n",
       "    <tr>\n",
       "      <th>7</th>\n",
       "      <td>DSC_7708.jpg\\t65.4506054701979707\\t-49.0090334...</td>\n",
       "    </tr>\n",
       "    <tr>\n",
       "      <th>8</th>\n",
       "      <td>DSC_7709.jpg\\t124.7915278532080521\\t-98.185058...</td>\n",
       "    </tr>\n",
       "    <tr>\n",
       "      <th>9</th>\n",
       "      <td>DSC_7710.jpg\\t179.0904045048793307\\t-143.41583...</td>\n",
       "    </tr>\n",
       "    <tr>\n",
       "      <th>10</th>\n",
       "      <td>DSC_7711.jpg\\t238.3117802326497952\\t-192.66716...</td>\n",
       "    </tr>\n",
       "    <tr>\n",
       "      <th>11</th>\n",
       "      <td>DSC_7794.jpg\\t300.7571445632395921\\t21.7293284...</td>\n",
       "    </tr>\n",
       "    <tr>\n",
       "      <th>12</th>\n",
       "      <td>DSC_7795.jpg\\t241.8559796636458259\\t69.1143038...</td>\n",
       "    </tr>\n",
       "    <tr>\n",
       "      <th>13</th>\n",
       "      <td>DSC_7796.jpg\\t184.6066588489569256\\t116.475581...</td>\n",
       "    </tr>\n",
       "    <tr>\n",
       "      <th>14</th>\n",
       "      <td>DSC_7797.jpg\\t126.6382667565679867\\t163.151117...</td>\n",
       "    </tr>\n",
       "  </tbody>\n",
       "</table>\n",
       "</div>"
      ],
      "text/plain": [
       "                                                    0\n",
       "0                                      # Cameras (13)\n",
       "1   # PhotoID, X, Y, Z, Omega, Phi, Kappa, r11, r1...\n",
       "2   DSC_7120.jpg\\t33.7780720697611017\\t-346.716993...\n",
       "3   DSC_7121.jpg\\t-20.0177704830947647\\t-299.53597...\n",
       "4   DSC_7122.jpg\\t-77.7076393266742826\\t-247.50836...\n",
       "5   DSC_7123.jpg\\t-131.1244633552223604\\t-200.1842...\n",
       "6   DSC_7707.jpg\\t6.4441072671493531\\t-0.721151074...\n",
       "7   DSC_7708.jpg\\t65.4506054701979707\\t-49.0090334...\n",
       "8   DSC_7709.jpg\\t124.7915278532080521\\t-98.185058...\n",
       "9   DSC_7710.jpg\\t179.0904045048793307\\t-143.41583...\n",
       "10  DSC_7711.jpg\\t238.3117802326497952\\t-192.66716...\n",
       "11  DSC_7794.jpg\\t300.7571445632395921\\t21.7293284...\n",
       "12  DSC_7795.jpg\\t241.8559796636458259\\t69.1143038...\n",
       "13  DSC_7796.jpg\\t184.6066588489569256\\t116.475581...\n",
       "14  DSC_7797.jpg\\t126.6382667565679867\\t163.151117..."
      ]
     },
     "execution_count": 16,
     "metadata": {},
     "output_type": "execute_result"
    }
   ],
   "source": [
    "foo = pd.read_csv('CAP/cameras/1.txt', sep=\"    \", header=None)\n",
    "foo\n",
    "#data.columns = [\"a\", \"b\", \"c\", \"etc.\"]"
   ]
  },
  {
   "cell_type": "code",
   "execution_count": null,
   "metadata": {
    "collapsed": true
   },
   "outputs": [],
   "source": []
  }
 ],
 "metadata": {
  "kernelspec": {
   "display_name": "Python 3",
   "language": "python",
   "name": "python3"
  },
  "language_info": {
   "codemirror_mode": {
    "name": "ipython",
    "version": 3
   },
   "file_extension": ".py",
   "mimetype": "text/x-python",
   "name": "python",
   "nbconvert_exporter": "python",
   "pygments_lexer": "ipython3",
   "version": "3.6.3"
  }
 },
 "nbformat": 4,
 "nbformat_minor": 2
}
